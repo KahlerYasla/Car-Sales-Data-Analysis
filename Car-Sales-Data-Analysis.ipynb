{
 "cells": [
  {
   "cell_type": "markdown",
   "metadata": {},
   "source": [
    "# Assignment 2\n",
    "Group names\n",
    "\n",
    "1. Mehmet Güray Güler\n",
    "2. İsmail Sevim"
   ]
  },
  {
   "cell_type": "markdown",
   "metadata": {},
   "source": [
    "#### 1. Find the average price of cars for each year and return it as a dictionary like:\n",
    "\n",
    "\n"
   ]
  },
  {
   "cell_type": "code",
   "execution_count": 10,
   "metadata": {},
   "outputs": [
    {
     "name": "stdout",
     "output_type": "stream",
     "text": [
      "\"2007\": 172888.3553008596,\n",
      "\"2011\": 124422.63309352518,\n",
      "\"1976\": 83372.16666666667,\n",
      "\"1995\": 208462.06024096385,\n",
      "\"1996\": 219949.95041322315,\n",
      "\"2012\": 107324.48442534909,\n",
      "\"2006\": 185562.88937093277,\n",
      "\"1970\": 97700.0,\n",
      "\"2009\": 151740.79937304076,\n",
      "\"2010\": 138518.25773195876,\n",
      "\"2003\": 213224.93719806764,\n",
      "\"2008\": 167791.55179704016,\n",
      "\"2004\": 202343.2962962963,\n",
      "\"2014\": 78538.75223880597,\n",
      "\"2013\": 86418.44134078213,\n",
      "\"1989\": 228524.91304347827,\n",
      "\"1974\": 124999.83333333333,\n",
      "\"1998\": 213000.3349056604,\n",
      "\"1999\": 216775.45398773006,\n",
      "\"2001\": 214898.45,\n",
      "\"1994\": 204131.70967741936,\n",
      "\"1990\": 196400.5,\n",
      "\"2002\": 206654.989010989,\n",
      "\"1987\": 236981.6052631579,\n",
      "\"2015\": 44765.31828978622,\n",
      "\"1993\": 181227.96261682242,\n",
      "\"2005\": 193663.243315508,\n",
      "\"1991\": 209749.19444444444,\n",
      "\"2000\": 215920.128,\n",
      "\"1997\": 204146.10625,\n",
      "\"1992\": 204245.1081081081,\n",
      "\"2016\": 23447.52977667494,\n",
      "\"1980\": 100333.33333333333,\n",
      "\"1978\": 108000.0,\n",
      "\"1986\": 224683.7142857143,\n",
      "\"1988\": 194011.11111111112,\n",
      "\"1982\": 100000.0,\n",
      "\"1981\": 178411.75,\n",
      "\"1985\": 202378.0,\n",
      "\"1983\": 190768.33333333334,\n",
      "\"2017\": 3752.1490384615386,\n",
      "\"1984\": 275625.0,\n",
      "\"1975\": 93333.33333333333,\n",
      "\"1971\": 10000.0,\n",
      "\"1977\": 242707.0,\n",
      "\"1972\": 0.0,\n",
      "\"1979\": 68000.0,\n"
     ]
    }
   ],
   "source": [
    "import csv\n",
    "import requests\n",
    "from collections import defaultdict\n",
    "\n",
    "link = \"https://docs.google.com/spreadsheets/d/1isOVWu-C6UqGy7Kg7sabE6O_Uq1AsMgK/edit#gid=215309859\"\n",
    "\n",
    "# Extract the gid from the URL\n",
    "gid = link.split(\"#gid=\")[1]\n",
    "\n",
    "# Use the gid to download the sheet as a CSV file\n",
    "link = f\"https://docs.google.com/spreadsheets/d/1isOVWu-C6UqGy7Kg7sabE6O_Uq1AsMgK/export?gid={gid}&format=csv\"\n",
    "response = requests.get(link)\n",
    "\n",
    "\n",
    "# Check if the request was successful\n",
    "if response.status_code == 200:\n",
    "    # If the request was successful, the data is stored in the response content\n",
    "    data = response.content\n",
    "else:\n",
    "    # If the request was not successful, print an error message\n",
    "    print(\"Failed to fetch data\")\n",
    "\n",
    "# Parse the data and extract the year and price for each car\n",
    "years_prices = []\n",
    "reader = csv.reader(data.decode(\"utf-8\").splitlines())\n",
    "for row in reader:\n",
    "    if len(row) >= 10:\n",
    "        year = row[6]\n",
    "        price = row[9]\n",
    "        years_prices.append((year, price))\n",
    "\n",
    "# Group the cars by year and compute the average price for each year\n",
    "average_prices = defaultdict(list)\n",
    "for year, price in years_prices:\n",
    "    # Only include years that are 4 digits long and contain only digits\n",
    "    if year.isdigit() and len(year) == 4:\n",
    "        average_prices[year].append(price)\n",
    "\n",
    "result = {}\n",
    "for year, prices in average_prices.items():\n",
    "    # Filter out non-integer prices\n",
    "    prices = [int(price) for price in prices if price.isdigit()]\n",
    "    if prices:\n",
    "        result[year] = sum(prices) / len(prices)\n",
    "\n",
    "# Return the results as a dictionary\n",
    "for year, avg_price in result.items():\n",
    "    print(f'\"{year}\": {avg_price},')\n"
   ]
  },
  {
   "cell_type": "markdown",
   "metadata": {},
   "source": [
    "#### 2. Find the standard deviation of the prices of each brand. You can find the definition of the standard deviation from wikipedia or use the following formula where Xbar is the average of the data."
   ]
  },
  {
   "cell_type": "code",
   "execution_count": null,
   "metadata": {},
   "outputs": [],
   "source": [
    "# Your code should be here. "
   ]
  },
  {
   "cell_type": "markdown",
   "metadata": {},
   "source": [
    "#### 3. Prices of some cars are missing. Find them and replace them with the average prices of the years they belong to. For example if the car is from 2015, then assign the average price of the cars in 2015"
   ]
  },
  {
   "cell_type": "code",
   "execution_count": null,
   "metadata": {},
   "outputs": [],
   "source": [
    "# Your code should be here. "
   ]
  }
 ],
 "metadata": {
  "kernelspec": {
   "display_name": "base",
   "language": "python",
   "name": "python3"
  },
  "language_info": {
   "codemirror_mode": {
    "name": "ipython",
    "version": 3
   },
   "file_extension": ".py",
   "mimetype": "text/x-python",
   "name": "python",
   "nbconvert_exporter": "python",
   "pygments_lexer": "ipython3",
   "version": "3.9.7"
  },
  "vscode": {
   "interpreter": {
    "hash": "7b187d27799e940c0b04e1d21ffc97717ed598eb560315d9cc0cc575a66f612e"
   }
  }
 },
 "nbformat": 4,
 "nbformat_minor": 2
}
