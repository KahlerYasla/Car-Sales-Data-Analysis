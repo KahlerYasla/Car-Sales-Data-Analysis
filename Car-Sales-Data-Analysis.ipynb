{
 "cells": [
  {
   "cell_type": "markdown",
   "metadata": {},
   "source": [
    "# Assignment 2\n",
    "Group names\n",
    "\n",
    "1. Mehmet Güray Güler\n",
    "2. İsmail Sevim"
   ]
  },
  {
   "attachments": {},
   "cell_type": "markdown",
   "metadata": {},
   "source": [
    "#### 1. Get the data into a Pandas DataFrame.\n"
   ]
  },
  {
   "cell_type": "code",
   "execution_count": null,
   "metadata": {},
   "outputs": [],
   "source": [
    "import csv\n",
    "import requests\n",
    "import pandas as pd\n",
    "import openpyxl\n",
    "\n",
    "link = \"https://docs.google.com/spreadsheets/d/1isOVWu-C6UqGy7Kg7sabE6O_Uq1AsMgK/edit#gid=215309859\"\n",
    "\n",
    "# Extract the gid from the URL\n",
    "gid = link.split(\"#gid=\")[1]\n",
    "\n",
    "# Use the gid to download the sheet as a CSV file\n",
    "link = f\"https://docs.google.com/spreadsheets/d/1isOVWu-C6UqGy7Kg7sabE6O_Uq1AsMgK/export?gid={gid}&format=csv\"\n",
    "response = requests.get(link)\n",
    "\n",
    "\n",
    "# Check if the request was successful\n",
    "if response.status_code == 200:\n",
    "    # If the request was successful, the data is stored in the response content\n",
    "    data = response.content\n",
    "else:\n",
    "    # If the request was not successful, print an error message\n",
    "    print(\"Failed to fetch data\")\n",
    "\n",
    "# Parse the data and extract the year and price for each car\n",
    "reader = csv.reader(data.decode(\"utf-8\").splitlines())\n",
    "\n",
    "# Convert the reader object to a list\n",
    "csv_data = list(reader)\n",
    "\n",
    "# Get the column names from the first row of the CSV file\n",
    "column_names = csv_data[0]\n",
    "\n",
    "# Remove the first row from the data\n",
    "data = csv_data[1:]\n",
    "\n",
    "# Create the DataFrame, specifying the column names\n",
    "df = pd.DataFrame(data, columns=column_names)\n",
    "\n",
    "df['Price'] = pd.to_numeric(df['Price'])\n",
    "df['Year'] = pd.to_numeric(df['Year'])\n",
    "df['Km'] = pd.to_numeric(df['Km'])\n",
    "df['Power'] = pd.to_numeric(df['Power'])\n",
    "df['Engine'] = pd.to_numeric(df['Engine'])\n"
   ]
  },
  {
   "attachments": {},
   "cell_type": "markdown",
   "metadata": {},
   "source": [
    "## 2. Data Cleaning\n",
    "\n",
    "Remove the cars where there exists the same car with the same values for all the columns except the price.\n"
   ]
  },
  {
   "cell_type": "code",
   "execution_count": null,
   "metadata": {},
   "outputs": [],
   "source": [
    "# Create a list of columns to keep\n",
    "columns_to_keep = df.columns.difference(['Price']).to_list()\n",
    "\n",
    "# Create a copy of the DataFrame\n",
    "df_sorted = df.copy()\n",
    "\n",
    "# Sort the copy by price\n",
    "df_sorted.sort_values('Price', ascending=True, inplace=True)\n",
    "\n",
    "# Drop duplicates\n",
    "df_sorted = df_sorted.drop_duplicates(subset=columns_to_keep, keep='first')\n",
    "\n",
    "# Filter the original DataFrame\n",
    "df = df[df.isin(df_sorted)].dropna(how='all')\n",
    "\n",
    "# Save the DataFrame to an Excel file\n",
    "df.to_excel(\"Car_Sales_Data_Analysis.xlsx\", index=False)\n"
   ]
  },
  {
   "attachments": {},
   "cell_type": "markdown",
   "metadata": {},
   "source": [
    "#### 3. Find the average price of cars for each years and return it as a dictionary.\n"
   ]
  },
  {
   "cell_type": "code",
   "execution_count": null,
   "metadata": {},
   "outputs": [],
   "source": [
    "# Group the data by the \"Year\" column and compute the average price for each group\n",
    "price_by_year = df.groupby('Year')['Price'].mean()\n",
    "\n",
    "# Convert the index to integers\n",
    "price_by_year.index = price_by_year.index.astype(int)\n",
    "\n",
    "# Convert the Series to a dictionary\n",
    "price_by_year_dict = price_by_year.to_dict()\n",
    "\n",
    "print(price_by_year_dict)\n"
   ]
  },
  {
   "attachments": {},
   "cell_type": "markdown",
   "metadata": {},
   "source": [
    "#### 4. Find the cars with the missing prices and replace them with the average prices of the years they belong to.\n"
   ]
  },
  {
   "cell_type": "code",
   "execution_count": null,
   "metadata": {},
   "outputs": [],
   "source": [
    "# Find the rows where the 'Price' column is null\n",
    "null_rows = df[df['Price'].isnull()]\n",
    "\n",
    "# Iterate through the rows and fill in the null values with the average price for the corresponding year\n",
    "for i, row in null_rows.iterrows():\n",
    "    year = row['Year']\n",
    "    avg_price = price_by_year_dict[year]\n",
    "    df.at[i, 'Price'] = avg_price\n"
   ]
  },
  {
   "attachments": {},
   "cell_type": "markdown",
   "metadata": {},
   "source": [
    "#### 5. Find the standard deviation of the prices of each brand and return it as a dictionary.\n"
   ]
  },
  {
   "cell_type": "code",
   "execution_count": null,
   "metadata": {},
   "outputs": [],
   "source": [
    "# Group the data by the 'Brand' column and compute the standard deviation of the prices for each group\n",
    "# price_std_by_brand = df.groupby('Brand')['Price'].std() # This is the easy way to do it\n",
    "\n",
    "# Calculate standard deviation manually\n",
    "price_std_by_brand = df.groupby('Brand')['Price'].apply(lambda group: (sum((x - group.mean())**2 for x in group) / (len(group) - 1))**0.5)\n",
    "\n",
    "# Convert the Series to a dictionary\n",
    "price_std_by_brand_dict = price_std_by_brand.to_dict()\n",
    "\n",
    "print(price_std_by_brand_dict)\n"
   ]
  },
  {
   "attachments": {},
   "cell_type": "markdown",
   "metadata": {},
   "source": [
    "#### 5. Find the average price of each city and return it as a dictionary.\n"
   ]
  },
  {
   "cell_type": "code",
   "execution_count": null,
   "metadata": {},
   "outputs": [],
   "source": [
    "# Group the data by the 'City' column and compute the average price for each group\n",
    "price_avg_by_city = df.groupby('City')['Price'].mean()\n",
    "\n",
    "# Convert the Series to a dictionary\n",
    "price_avg_by_city_dict = price_avg_by_city.to_dict()\n",
    "\n",
    "print(price_avg_by_city_dict)\n"
   ]
  },
  {
   "attachments": {},
   "cell_type": "markdown",
   "metadata": {},
   "source": [
    "### 6. Find the average price of each brand and return it as a dictionary.\n"
   ]
  },
  {
   "cell_type": "code",
   "execution_count": null,
   "metadata": {},
   "outputs": [],
   "source": [
    "# Group the data by the 'City' column and compute the average price for each group\n",
    "price_avg_by_city = df.groupby('City')['Price'].mean()\n",
    "\n",
    "# Convert the Series to a dictionary\n",
    "price_avg_by_city_dict = price_avg_by_city.to_dict()\n",
    "\n",
    "print(price_avg_by_city_dict)\n"
   ]
  },
  {
   "attachments": {},
   "cell_type": "markdown",
   "metadata": {},
   "source": [
    "### 7. Find the average price of the Mercedes-Benz cars that has automatic transmission in İstanbul.\n"
   ]
  },
  {
   "cell_type": "code",
   "execution_count": null,
   "metadata": {},
   "outputs": [],
   "source": [
    "# Select the rows that have 'Mercedes-Benz' in the 'Brand' column and 'Automatic' in the 'Transmission' column\n",
    "selected_rows = df.loc[(df['Brand'] == 'Mercedes - Benz') & (df['Tranmission'] == 'Otomatik')]\n",
    "\n",
    "# Compute the average price of the selected rows\n",
    "avg_price = selected_rows['Price'].mean()\n",
    "\n",
    "print(avg_price)\n"
   ]
  },
  {
   "attachments": {},
   "cell_type": "markdown",
   "metadata": {},
   "source": [
    "### 8. Find the number of cars whose price is less than 100K TL, between 100K(exclusive) and 200k (inclusive) and larger than 200k(exclusive). The output should be dictionary.\n"
   ]
  },
  {
   "cell_type": "code",
   "execution_count": null,
   "metadata": {},
   "outputs": [],
   "source": [
    "# Create a new column with a categorical value based on the price\n",
    "df['Price Range'] = df['Price'].apply(\n",
    "    lambda x: '0-100' if x < 100000 else ('100 - 200' if x <= 200000 else '200 and over'))\n",
    "\n",
    "# Count the number of cars in each category\n",
    "counts = df['Price Range'].value_counts()\n",
    "\n",
    "# Convert the Series to a dictionary\n",
    "counts_dict = counts.to_dict()\n",
    "\n",
    "print(counts_dict)\n"
   ]
  },
  {
   "attachments": {},
   "cell_type": "markdown",
   "metadata": {},
   "source": [
    "### 9. Write a function which generates the lists above automatically."
   ]
  },
  {
   "cell_type": "code",
   "execution_count": null,
   "metadata": {},
   "outputs": [],
   "source": [
    "def count_cars_by_price_range(df, ranges):\n",
    "    # Initialize a dictionary to store the counts for each price range\n",
    "    counts_dict = {f\"0-{ranges[0]}\": 0}\n",
    "    for i in range(len(ranges)-1):\n",
    "        counts_dict[f\"{ranges[i]}-{ranges[i+1]}\"] = 0\n",
    "    counts_dict[f\"{ranges[-1]} and over\"] = 0\n",
    "\n",
    "    # Iterate over the prices and increment the appropriate count\n",
    "    for price in df['Price']:\n",
    "        if price < ranges[0] * 1000:\n",
    "            counts_dict[f\"0-{ranges[0]}\"] += 1\n",
    "        elif price >= ranges[-1] * 1000:\n",
    "            counts_dict[f\"{ranges[-1]} and over\"] += 1\n",
    "        else:\n",
    "            for i in range(len(ranges)-1):\n",
    "                if ranges[i] * 1000 <= price < ranges[i+1] * 1000:\n",
    "                    counts_dict[f\"{ranges[i]}-{ranges[i+1]}\"] += 1\n",
    "                    break\n",
    "\n",
    "    return counts_dict\n"
   ]
  },
  {
   "cell_type": "code",
   "execution_count": null,
   "metadata": {},
   "outputs": [],
   "source": [
    "# Test the function\n",
    "counts_dict = count_cars_by_price_range(df, [50, 100, 150, 200, 250])\n",
    "print(counts_dict)\n"
   ]
  },
  {
   "attachments": {},
   "cell_type": "markdown",
   "metadata": {},
   "source": [
    "### 10. Find the number of cars that has an automatic transmission whose price is less than 100K TL, between 100K(exclusive) and 200k (inclusive) and larger than 200k(exclusive).\n"
   ]
  },
  {
   "cell_type": "code",
   "execution_count": null,
   "metadata": {},
   "outputs": [],
   "source": [
    "# Count the number of cars in each price range\n",
    "counts_dict = count_cars_by_price_range(df, [100, 200])\n",
    "\n",
    "# Find the number of cars whose price is less than 100K TL\n",
    "less_than_100K = counts_dict[\"0-100\"]\n",
    "\n",
    "# Find the number of cars whose price is between 100K(exclusive) and 200k (inclusive)\n",
    "between_100K_and_200K = counts_dict[\"100-200\"]\n",
    "\n",
    "# Find the number of cars whose price is larger than 200k(exclusive)\n",
    "over_200K = counts_dict[\"200 and over\"]\n",
    "\n",
    "# Print the counts\n",
    "print(f\"Less than 100: {less_than_100K}\")\n",
    "print(f\"Between 100 and 200: {between_100K_and_200K}\")\n",
    "print(f\"Larger than 200: {over_200K}\")\n"
   ]
  },
  {
   "attachments": {},
   "cell_type": "markdown",
   "metadata": {},
   "source": [
    "### 11. For every brand, find the difference for the average prices of automatic transmission and manual transmission and return it as a dictionary.\n"
   ]
  },
  {
   "cell_type": "code",
   "execution_count": null,
   "metadata": {},
   "outputs": [],
   "source": [
    "# Group the DataFrame by the 'Brand' column and the 'Transmission' column\n",
    "df_grouped = df.groupby(['Brand', 'Tranmission'])\n",
    "\n",
    "# Calculate the average price for each group\n",
    "df_mean = df_grouped['Price'].mean()\n",
    "\n",
    "# Convert the resulting Series to a DataFrame\n",
    "df_mean = df_mean.reset_index()\n",
    "\n",
    "# Pivot the DataFrame to create columns for each brand and transmission type\n",
    "df_pivot = df_mean.pivot(index='Brand', columns='Tranmission', values='Price')\n",
    "\n",
    "# Calculate the difference between the average prices for automatic and manual transmission for each brand\n",
    "df_diff = df_pivot['Otomatik'].subtract(df_pivot['Manuel'])\n",
    "\n",
    "# Convert the resulting Series to a dictionary\n",
    "diff_dict = df_diff.to_dict()\n",
    "\n",
    "print(diff_dict)\n"
   ]
  },
  {
   "attachments": {},
   "cell_type": "markdown",
   "metadata": {},
   "source": [
    "### 12. Create a new dataframe which is ordered in terms of the prices of the cars.\n"
   ]
  },
  {
   "cell_type": "code",
   "execution_count": null,
   "metadata": {},
   "outputs": [],
   "source": [
    "pd_sorted_by_price = df.sort_values('Price', ascending=False)\n",
    "\n",
    "# Convert the DataFrame to a excel file\n",
    "pd_sorted_by_price.to_excel('cars_sorted_by_price.xlsx', index=False)\n"
   ]
  },
  {
   "attachments": {},
   "cell_type": "markdown",
   "metadata": {},
   "source": [
    "### 13. Create a new dataframe which is ordered in terms of the cities first and then prices of the cars.\n"
   ]
  },
  {
   "cell_type": "code",
   "execution_count": null,
   "metadata": {},
   "outputs": [],
   "source": [
    "pd_sorted_by_city_and_price = df.sort_values(['City', 'Price'], ascending=[True, False])\n",
    "\n",
    "# Convert the DataFrame to a excel file\n",
    "pd_sorted_by_city_and_price.to_excel('cars_sorted_by_city_and_price.xlsx', index=False)\n"
   ]
  },
  {
   "attachments": {},
   "cell_type": "markdown",
   "metadata": {},
   "source": [
    "### 14. Divide the price of the cars by its power (Cost/power) and add it as a new column to the datafame.\n"
   ]
  },
  {
   "cell_type": "code",
   "execution_count": null,
   "metadata": {},
   "outputs": [],
   "source": [
    "# Create a new column with the price per horsepower and add it to the DataFrame\n",
    "df['CostPerPower'] = df['Price'] / df['Power']\n",
    "\n",
    "# Convert the DataFrame to a excel file\n",
    "df.to_excel('cars_with_cost_per_power.xlsx', index=False)\n"
   ]
  },
  {
   "attachments": {},
   "cell_type": "markdown",
   "metadata": {},
   "source": [
    "### 15. How many different series each brand have? The output should be a dictionary.\n"
   ]
  },
  {
   "cell_type": "code",
   "execution_count": null,
   "metadata": {},
   "outputs": [],
   "source": [
    "# Group the DataFrame by the 'Brand' column and count how many series each brand has\n",
    "df_grouped = df.groupby('Brand')['Series'].nunique()\n",
    "\n",
    "# count how many series each brand has and create a dictionary\n",
    "brand_series_count_dict = {}\n",
    "\n",
    "for brand, count in df_grouped.items():\n",
    "    brand_series_count_dict[brand] = count\n",
    "\n",
    "print(brand_series_count_dict)\n"
   ]
  },
  {
   "attachments": {},
   "cell_type": "markdown",
   "metadata": {},
   "source": [
    "### 16. Write a function called analyze_car_data.\n"
   ]
  },
  {
   "cell_type": "code",
   "execution_count": null,
   "metadata": {},
   "outputs": [],
   "source": [
    "def analyze_car_data(count_type, property_type):\n",
    "    if count_type == \"Price\":\n",
    "        return df.groupby(property_type)[\"Price\"].mean().to_dict()\n",
    "    elif count_type == \"Count\":\n",
    "        return df[property_type].value_counts().to_dict()\n",
    "    elif count_type == \"Power\":\n",
    "        return df.groupby(property_type)[\"Power\"].mean().to_dict()\n",
    "    else:\n",
    "        raise ValueError(\"Invalid count type. Choose from 'Price', 'Count', or 'Power'.\")\n"
   ]
  },
  {
   "cell_type": "code",
   "execution_count": null,
   "metadata": {},
   "outputs": [],
   "source": [
    "# If you call the function as follows then it will return the average car price of each city.\n",
    "analyze_car_data(\"Price\", \"City\")\n"
   ]
  },
  {
   "cell_type": "code",
   "execution_count": null,
   "metadata": {},
   "outputs": [],
   "source": [
    "# For example, if you call the function as follows then it will return the number of cars for each transmission type.\n",
    "analyze_car_data(\"Count\", \"Tranmission\")\n"
   ]
  },
  {
   "cell_type": "code",
   "execution_count": null,
   "metadata": {},
   "outputs": [],
   "source": [
    "# If you call the function as follows then it will return the average power of cars for each Brand.\n",
    "analyze_car_data(\"Power\", \"Brand\")\n"
   ]
  }
 ],
 "metadata": {
  "kernelspec": {
   "display_name": "Python 3",
   "language": "python",
   "name": "python3"
  },
  "language_info": {
   "codemirror_mode": {
    "name": "ipython",
    "version": 3
   },
   "file_extension": ".py",
   "mimetype": "text/x-python",
   "name": "python",
   "nbconvert_exporter": "python",
   "pygments_lexer": "ipython3",
   "version": "3.10.9"
  },
  "vscode": {
   "interpreter": {
    "hash": "767d51c1340bd893661ea55ea3124f6de3c7a262a8b4abca0554b478b1e2ff90"
   }
  }
 },
 "nbformat": 4,
 "nbformat_minor": 2
}
